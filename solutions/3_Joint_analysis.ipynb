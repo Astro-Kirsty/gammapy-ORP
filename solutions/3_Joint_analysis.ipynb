{
 "cells": [
  {
   "cell_type": "markdown",
   "metadata": {
    "id": "Q29MPDW1eUbj"
   },
   "source": [
    "\n",
    "# Multi instrument joint analysis\n",
    "\n",
    "Joint 3D analysis using 3D Fermi datasets, a H.E.S.S. reduced spectrum and CTA flux points.\n",
    "\n",
    "**Constrain the spectral parameters of the gamma-ray\n",
    "emission from the Crab nebula between 10 GeV and 100 TeV, using a 3D\n",
    "Fermi dataset, a H.E.S.S. reduced spectrum and CTA flux points.**\n",
    "\n",
    "\n",
    "This tutorial illustrates how to perform a joint modeling and fitting of\n",
    "the Crab Nebula spectrum using different datasets. The spectral\n",
    "parameters are optimized by combining a 3D analysis of Fermi-LAT data, a\n",
    "ON/OFF spectral analysis of HESS data, and flux points from CTA.\n",
    "\n",
    "## The setup\n"
   ]
  },
  {
   "cell_type": "code",
   "execution_count": 1,
   "metadata": {
    "id": "_MDGGorneNsY"
   },
   "outputs": [],
   "source": [
    "import numpy as np\n",
    "from astropy import units as u\n",
    "import matplotlib.pyplot as plt\n",
    "from gammapy.datasets import Datasets, FluxPointsDataset, SpectrumDatasetOnOff\n",
    "from gammapy.estimators import FluxPoints, FluxPointsEstimator\n",
    "from gammapy.maps import MapAxis\n",
    "from gammapy.modeling import Fit\n",
    "from gammapy.modeling.models import Models, create_crab_spectral_model"
   ]
  },
  {
   "cell_type": "markdown",
   "metadata": {
    "id": "YvRL88MhflPo"
   },
   "source": [
    "## Data and models files\n",
    "\n",
    "The datasets serialization produce YAML files listing the datasets and\n",
    "models. In the following cells we show an example containing only the\n",
    "Fermi-LAT dataset and the Crab model.\n",
    "\n",
    "We used as model a point source with a log-parabola spectrum. The\n",
    "initial parameters were taken from the latest Fermi-LAT catalog\n",
    "[4FGL](https://arxiv.org/abs/1902.10045)_, then we have re-optimized\n",
    "the spectral parameters for our dataset in the 10 GeV - 2 TeV energy\n",
    "range (fixing the source position).\n",
    "\n",
    "\n",
    "## Reading different datasets\n",
    "\n",
    "### Fermi-LAT 3FHL: map dataset for 3D analysis\n",
    "\n",
    "For now we let’s use the datasets serialization only to read the 3D\n",
    "`MapDataset` associated to Fermi-LAT 3FHL data and models.\n",
    "\n",
    "\n"
   ]
  },
  {
   "cell_type": "code",
   "execution_count": 2,
   "metadata": {
    "id": "8pmURO80eZut"
   },
   "outputs": [
    {
     "name": "stdout",
     "output_type": "stream",
     "text": [
      "Models\n",
      "\n",
      "Component 0: SkyModel\n",
      "\n",
      "  Name                      : Crab Nebula\n",
      "  Datasets names            : None\n",
      "  Spectral model type       : LogParabolaSpectralModel\n",
      "  Spatial  model type       : PointSpatialModel\n",
      "  Temporal model type       : \n",
      "  Parameters:\n",
      "    amplitude                     :   1.82e-02   +/- 3.0e-03 1 / (TeV s cm2)\n",
      "    reference             (frozen):      0.000       TeV         \n",
      "    alpha                         :      1.652   +/-    0.06             \n",
      "    beta                          :      0.039   +/-    0.01             \n",
      "    lon_0                 (frozen):     83.633       deg         \n",
      "    lat_0                 (frozen):     22.020       deg         \n",
      "\n",
      "Component 1: FoVBackgroundModel\n",
      "\n",
      "  Name                      : Fermi-LAT-bkg\n",
      "  Datasets names            : ['Fermi-LAT']\n",
      "  Spectral model type       : PowerLawNormSpectralModel\n",
      "  Parameters:\n",
      "    norm                          :      1.300   +/-    0.08             \n",
      "    tilt                  (frozen):      0.000                   \n",
      "    reference             (frozen):      1.000       TeV         \n",
      "\n",
      "\n"
     ]
    },
    {
     "name": "stderr",
     "output_type": "stream",
     "text": [
      "/home/feijen/anaconda3/envs/gammapy-1.2-withray/lib/python3.10/site-packages/gammapy/utils/scripts.py:65: UserWarning: Checksum verification failed for /home/feijen/gammapy-datasets/1.2/fermi-3fhl-crab/Fermi-LAT-3FHL_datasets.yaml.\n",
      "  warnings.warn(f\"Checksum verification failed for {filename}.\", UserWarning)\n"
     ]
    }
   ],
   "source": [
    "datasets = Datasets.read(filename=\"$GAMMAPY_DATA/fermi-3fhl-crab/Fermi-LAT-3FHL_datasets.yaml\")\n",
    "\n",
    "models = Models.read(\"$GAMMAPY_DATA/fermi-3fhl-crab/Fermi-LAT-3FHL_models.yaml\")\n",
    "print(models)"
   ]
  },
  {
   "cell_type": "markdown",
   "metadata": {
    "id": "KaiNCwCyftDT"
   },
   "source": [
    "**Get the Crab model in order to share it with the other datasets:**"
   ]
  },
  {
   "cell_type": "code",
   "execution_count": 3,
   "metadata": {
    "id": "Qzk4stWrftk7"
   },
   "outputs": [
    {
     "name": "stdout",
     "output_type": "stream",
     "text": [
      "SkyModel\n",
      "\n",
      "  Name                      : Crab Nebula\n",
      "  Datasets names            : None\n",
      "  Spectral model type       : LogParabolaSpectralModel\n",
      "  Spatial  model type       : PointSpatialModel\n",
      "  Temporal model type       : \n",
      "  Parameters:\n",
      "    amplitude                     :   1.82e-02   +/- 3.0e-03 1 / (TeV s cm2)\n",
      "    reference             (frozen):      0.000       TeV         \n",
      "    alpha                         :      1.652   +/-    0.06             \n",
      "    beta                          :      0.039   +/-    0.01             \n",
      "    lon_0                 (frozen):     83.633       deg         \n",
      "    lat_0                 (frozen):     22.020       deg         \n",
      "\n",
      "\n"
     ]
    }
   ],
   "source": [
    "print(models['Crab Nebula'])"
   ]
  },
  {
   "cell_type": "markdown",
   "metadata": {
    "id": "k9Voa_W6f3Fe"
   },
   "source": [
    "### HESS-DL3: 1D ON/OFF dataset for spectral fitting\n",
    "\n",
    "The ON/OFF datasets can be read from PHA files. We read the PHA files from each observation, and compute a stacked dataset for simplicity."
   ]
  },
  {
   "cell_type": "code",
   "execution_count": 4,
   "metadata": {
    "id": "XewaFrG0fvXL"
   },
   "outputs": [],
   "source": [
    "datasets_hess = Datasets()\n",
    "\n",
    "for obs_id in [23523, 23526]:\n",
    "    dataset = SpectrumDatasetOnOff.read(\n",
    "        f\"$GAMMAPY_DATA/joint-crab/spectra/hess/pha_obs{obs_id}.fits\"\n",
    "    )\n",
    "    datasets_hess.append(dataset)\n",
    "\n",
    "dataset_hess = datasets_hess.stack_reduce(name=\"HESS\")"
   ]
  },
  {
   "cell_type": "markdown",
   "metadata": {
    "id": "gpKnzw87ODft"
   },
   "source": [
    "**Add this dataset to the existing dataset (it can be done in a typical Pythonic fashion, just like you would combine two lists!)**"
   ]
  },
  {
   "cell_type": "code",
   "execution_count": 5,
   "metadata": {
    "id": "ZtqVPVpLODBw"
   },
   "outputs": [],
   "source": [
    "datasets.append(dataset_hess)"
   ]
  },
  {
   "cell_type": "markdown",
   "metadata": {
    "id": "ihgaWibDf82z"
   },
   "source": [
    "### CTA-simulated: 1D ON/OFF dataset for spectral fitting\n",
    "\n",
    "We read the PHA files from each observation, and compute a stacked\n",
    "dataset for simplicity."
   ]
  },
  {
   "cell_type": "code",
   "execution_count": 6,
   "metadata": {
    "id": "dH5TFu5xf7Rx"
   },
   "outputs": [],
   "source": [
    "flux_points_cta = FluxPoints.read(f\"../gammapy-ORP/data/cta_simulation_flux_points.fits\")"
   ]
  },
  {
   "cell_type": "markdown",
   "metadata": {
    "id": "dWP8kGiTOyJk"
   },
   "source": [
    "**Utilise the above to create a `FluxPointsDataset` object, with the name 'CTA'.**"
   ]
  },
  {
   "cell_type": "code",
   "execution_count": 7,
   "metadata": {
    "id": "9nhmitCOOhpL"
   },
   "outputs": [],
   "source": [
    "dataset_cta = FluxPointsDataset(data=flux_points_cta, name='CTA')"
   ]
  },
  {
   "cell_type": "code",
   "execution_count": 8,
   "metadata": {
    "id": "LtvIcRLYOmvd"
   },
   "outputs": [
    {
     "name": "stdout",
     "output_type": "stream",
     "text": [
      "Datasets\n",
      "--------\n",
      "\n",
      "Dataset 0: \n",
      "\n",
      "  Type       : MapDataset\n",
      "  Name       : Fermi-LAT\n",
      "  Instrument : \n",
      "  Models     : \n",
      "\n",
      "Dataset 1: \n",
      "\n",
      "  Type       : SpectrumDatasetOnOff\n",
      "  Name       : HESS\n",
      "  Instrument : \n",
      "  Models     : \n",
      "\n",
      "Dataset 2: \n",
      "\n",
      "  Type       : FluxPointsDataset\n",
      "  Name       : CTA\n",
      "  Instrument : \n",
      "  Models     : \n",
      "\n",
      "\n"
     ]
    }
   ],
   "source": [
    "datasets.append(dataset_cta)\n",
    "\n",
    "print(datasets)"
   ]
  },
  {
   "cell_type": "markdown",
   "metadata": {
    "id": "kONJt54VgYLc"
   },
   "source": [
    "## Datasets serialization\n",
    "\n",
    "The `datasets` object contains each dataset previously defined. It can\n",
    "be saved on disk as datasets.yaml, models.yaml, and several data files\n",
    "specific to each dataset.\n",
    "\n",
    "```\n",
    "filename = \"spectra/crab_10GeV_100TeV_datasets.yaml\"\n",
    "datasets.write(filename, overwrite=True)\n",
    "\n",
    "datasets = Datasets.read(filename)\n",
    "```\n",
    "\n",
    "\n",
    "**Apply the models to the dataset. Hint: we did this in the previous tutorial!**"
   ]
  },
  {
   "cell_type": "code",
   "execution_count": 9,
   "metadata": {
    "id": "Ku2n7RKWgCQx"
   },
   "outputs": [],
   "source": [
    "datasets.models = models"
   ]
  },
  {
   "cell_type": "markdown",
   "metadata": {
    "id": "Um5lpqWcgbr4"
   },
   "source": [
    "## Joint analysis\n",
    "\n",
    "We run the fit on the `Datasets` object that include a dataset for\n",
    "each instrument."
   ]
  },
  {
   "cell_type": "code",
   "execution_count": 10,
   "metadata": {
    "id": "gm75hL4vgZ_8"
   },
   "outputs": [],
   "source": [
    "fit_joint = Fit()"
   ]
  },
  {
   "cell_type": "markdown",
   "metadata": {
    "id": "ehSPdCnqPFta"
   },
   "source": [
    "**Run the fit on the dataset**"
   ]
  },
  {
   "cell_type": "code",
   "execution_count": 11,
   "metadata": {
    "id": "9-7EDL_5PF9n"
   },
   "outputs": [
    {
     "name": "stderr",
     "output_type": "stream",
     "text": [
      "HDU 'MASK_FIT' not found\n"
     ]
    }
   ],
   "source": [
    "results_joint = fit_joint.run(datasets)"
   ]
  },
  {
   "cell_type": "markdown",
   "metadata": {
    "id": "Wgg_9_yPglKj"
   },
   "source": [
    "Let’s display only the parameters of the Crab spectral model"
   ]
  },
  {
   "cell_type": "code",
   "execution_count": 12,
   "metadata": {
    "id": "UBjjqubsgjFb"
   },
   "outputs": [
    {
     "name": "stdout",
     "output_type": "stream",
     "text": [
      "LogParabolaSpectralModel\n",
      "\n",
      "type    name     value         unit      ... frozen is_norm link prior\n",
      "---- --------- ---------- -------------- ... ------ ------- ---- -----\n",
      "     amplitude 8.2460e-03 TeV-1 s-1 cm-2 ...  False    True           \n",
      "     reference 5.0548e-05            TeV ...   True   False           \n",
      "         alpha 1.4444e+00                ...  False   False           \n",
      "          beta 5.1557e-02                ...  False   False           \n"
     ]
    }
   ],
   "source": [
    "crab_spec = datasets[0].models[\"Crab Nebula\"].spectral_model\n",
    "print(crab_spec)"
   ]
  },
  {
   "cell_type": "markdown",
   "metadata": {
    "id": "0va152ULgoK3"
   },
   "source": [
    "We can compute flux points for Fermi-LAT, HESS and CTA datasets."
   ]
  },
  {
   "cell_type": "code",
   "execution_count": 13,
   "metadata": {
    "id": "a1KuclrzgmtF"
   },
   "outputs": [],
   "source": [
    "# compute Fermi-LAT flux points\n",
    "energy_edges = MapAxis.from_energy_bounds(\"10 GeV\", \"2 TeV\", nbin=5).edges\n",
    "flux_points_fermi = FluxPointsEstimator(\n",
    "    energy_edges=energy_edges,\n",
    "    source=\"Crab Nebula\",\n",
    ").run([datasets[\"Fermi-LAT\"]])"
   ]
  },
  {
   "cell_type": "markdown",
   "metadata": {
    "id": "sn0p1Ou4PNJk"
   },
   "source": [
    "Compute the Flux points for the HESS instrument. \n",
    "\n",
    "**Here we want a logarithmic interpretation with 6 bins from 1-15TeV**"
   ]
  },
  {
   "cell_type": "code",
   "execution_count": 14,
   "metadata": {
    "id": "nDIJNYyQPV96"
   },
   "outputs": [],
   "source": [
    "energy_edges = MapAxis.from_bounds(1, 15, nbin=6, interp=\"log\", unit=\"TeV\").edges\n",
    "flux_points_hess = FluxPointsEstimator(\n",
    "    energy_edges=energy_edges,\n",
    "    source=\"Crab Nebula\",\n",
    "    selection_optional=[\"ul\"]\n",
    ").run([datasets[\"HESS\"]])"
   ]
  },
  {
   "cell_type": "markdown",
   "metadata": {
    "id": "cWIGM9jhgtdM"
   },
   "source": [
    "Now, let’s plot the Crab spectrum fitted and the flux points of each\n",
    "instrument."
   ]
  },
  {
   "cell_type": "code",
   "execution_count": 15,
   "metadata": {
    "id": "xDJ2vJJLgrRL"
   },
   "outputs": [
    {
     "data": {
      "image/png": "[encoded data removed]",
      "text/plain": [
       "<Figure size 800x600 with 1 Axes>"
      ]
     },
     "metadata": {},
     "output_type": "display_data"
    }
   ],
   "source": [
    "fig, ax = plt.subplots(figsize=(8, 6))\n",
    "\n",
    "energy_bounds = [0.01, 300] * u.TeV\n",
    "sed_type = \"e2dnde\"\n",
    "\n",
    "crab_spec.plot(ax=ax, energy_bounds=energy_bounds, sed_type=sed_type, label=\"Model\")\n",
    "crab_spec.plot_error(ax=ax, energy_bounds=energy_bounds, sed_type=sed_type)\n",
    "\n",
    "flux_points_fermi.plot(ax=ax, sed_type=sed_type, label=\"Fermi-LAT\")\n",
    "flux_points_hess.plot(ax=ax, sed_type=sed_type, label=\"HESS\")\n",
    "flux_points_cta.plot(ax=ax, sed_type=sed_type, label=\"CTA Simulation\")\n",
    "\n",
    "ax.set_xlim(energy_bounds)\n",
    "ax.legend()\n",
    "plt.show()"
   ]
  },
  {
   "cell_type": "markdown",
   "metadata": {
    "id": "XhaZKbMUgt9r"
   },
   "source": [
    "## Horray! We have performed a joint analysis with 3 different instruments"
   ]
  },
  {
   "cell_type": "code",
   "execution_count": null,
   "metadata": {},
   "outputs": [],
   "source": []
  }
 ],
 "metadata": {
  "colab": {
   "provenance": []
  },
  "kernelspec": {
   "display_name": "Python 3 (ipykernel)",
   "language": "python",
   "name": "python3"
  },
  "language_info": {
   "codemirror_mode": {
    "name": "ipython",
    "version": 3
   },
   "file_extension": ".py",
   "mimetype": "text/x-python",
   "name": "python",
   "nbconvert_exporter": "python",
   "pygments_lexer": "ipython3",
   "version": "3.10.13"
  }
 },
 "nbformat": 4,
 "nbformat_minor": 1
}
