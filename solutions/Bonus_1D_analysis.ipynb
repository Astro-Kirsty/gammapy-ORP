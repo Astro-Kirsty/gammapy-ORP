{
 "cells": [
  {
   "cell_type": "markdown",
   "metadata": {
    "id": "-CSJVBCBTdi6"
   },
   "source": [
    "# 1D spectral analysis\n",
    "\n",
    "### Objective\n",
    "Performing a full spectral anaysis of the Crab pulsar.\n",
    "\n",
    "### Steps\n",
    "- Prepare the **data access and selection**\n",
    "- Set up the **analyis parameters**\n",
    "  - Define the [reconstructed energy](https://docs.gammapy.org/1.2/user-guide/references.html#term-Reco-Energy) axis and [true energy](https://docs.gammapy.org/1.2/user-guide/references.html#term-True-Energy) axis using the `~gammapy.maps.MapAxis` object\n",
    "  - Define the spatial geometry\n",
    "  - Define the exclusion mask\n",
    "  - Choose the correct `~gammapy.datasets.Dataset` type and define it\n",
    "- Do the **data reduction**\n",
    "- Make **the modeling and fitting**\n",
    "  - Define the `~gammapy.modeling.models.SkyModel` to fit the data. Being this a spectral analysis, the `SkyModel` is completely defined by a  `~gammapy.modeling.models.SpectralModel` (no spatial information is required)\n",
    "  - Create a `~gammapy.modeling.Fit` object and run it to fit the model parameters\n",
    "  - Apply a `~gammapy.estimators.FluxPointsEstimator` to compute flux points for the spectral part of the fit."
   ]
  },
  {
   "cell_type": "markdown",
   "metadata": {
    "id": "7HRHqOMcPMlS"
   },
   "source": [
    "## Import all the necessary libraries for the tutorial"
   ]
  },
  {
   "cell_type": "code",
   "execution_count": 1,
   "metadata": {
    "id": "BoJtbHb8XNnQ"
   },
   "outputs": [],
   "source": [
    "import numpy as np\n",
    "import matplotlib.pyplot as plt\n",
    "import astropy.units as u\n",
    "from astropy.coordinates import SkyCoord\n",
    "from regions import CircleSkyRegion\n",
    "\n",
    "\n",
    "from gammapy.data import DataStore\n",
    "from gammapy.datasets import SpectrumDataset, Datasets\n",
    "from gammapy.maps import MapAxis, WcsGeom, RegionGeom\n",
    "from gammapy.makers import (\n",
    "    SafeMaskMaker,\n",
    "    SpectrumDatasetMaker,\n",
    "    ReflectedRegionsBackgroundMaker\n",
    ")\n",
    "from gammapy.modeling import Fit\n",
    "from gammapy.modeling.models import (\n",
    "    PowerLawSpectralModel,\n",
    "    SkyModel,\n",
    ")\n",
    "from gammapy.visualization import plot_spectrum_datasets_off_regions"
   ]
  },
  {
   "cell_type": "code",
   "execution_count": 2,
   "metadata": {
    "id": "K9NcwCHdZ5hn"
   },
   "outputs": [],
   "source": [
    "data_store = DataStore.from_dir(\"$GAMMAPY_DATA/hess-dl3-dr1\")"
   ]
  },
  {
   "cell_type": "markdown",
   "metadata": {
    "id": "F1oLVj7PeJpt"
   },
   "source": [
    "#### Exercise:\n",
    "\n",
    "**Utilise the above `data_store.obs_table` to display only \"Crab Nebula\" observations using the `OBJECT` column**"
   ]
  },
  {
   "cell_type": "code",
   "execution_count": 9,
   "metadata": {
    "id": "os-l26f6ep3G"
   },
   "outputs": [],
   "source": [
    "selection = data_store.obs_table['OBJECT']==['Crab Nebula']"
   ]
  },
  {
   "cell_type": "code",
   "execution_count": 10,
   "metadata": {
    "id": "IDrXEOsGaIOX"
   },
   "outputs": [],
   "source": [
    "obs_ids = data_store.obs_table[selection][\"OBS_ID\"]\n",
    "observations = data_store.get_observations(obs_ids)"
   ]
  },
  {
   "cell_type": "code",
   "execution_count": 11,
   "metadata": {},
   "outputs": [
    {
     "name": "stdout",
     "output_type": "stream",
     "text": [
      "Observations\n",
      "Number of observations: 4\n",
      "Observation\n",
      "\n",
      "\tobs id            : 23523 \n",
      " \ttstart            : 53343.92\n",
      "\ttstop             : 53343.94\n",
      "\tduration          : 1687.00 s\n",
      "\tpointing (icrs)   : 83.6 deg, 21.5 deg\n",
      "\n",
      "\tdeadtime fraction : 6.2%\n",
      "Observation\n",
      "\n",
      "\tobs id            : 23526 \n",
      " \ttstart            : 53343.95\n",
      "\ttstop             : 53343.97\n",
      "\tduration          : 1683.00 s\n",
      "\tpointing (icrs)   : 83.6 deg, 22.5 deg\n",
      "\n",
      "\tdeadtime fraction : 6.6%\n",
      "Observation\n",
      "\n",
      "\tobs id            : 23559 \n",
      " \ttstart            : 53345.96\n",
      "\ttstop             : 53345.98\n",
      "\tduration          : 1686.00 s\n",
      "\tpointing (icrs)   : 85.3 deg, 22.0 deg\n",
      "\n",
      "\tdeadtime fraction : 6.4%\n",
      "Observation\n",
      "\n",
      "\tobs id            : 23592 \n",
      " \ttstart            : 53347.91\n",
      "\ttstop             : 53347.93\n",
      "\tduration          : 1686.00 s\n",
      "\tpointing (icrs)   : 82.0 deg, 22.0 deg\n",
      "\n",
      "\tdeadtime fraction : 6.2%\n",
      "\n"
     ]
    }
   ],
   "source": [
    "print(observations)"
   ]
  },
  {
   "cell_type": "markdown",
   "metadata": {
    "id": "iF9qKKTYQ2o1"
   },
   "source": [
    "The next step is to define a signal extraction region, also known as `on` region. In the simplest case this is just a CircleSkyRegion.\n",
    "\n",
    "**Recall our target is the `Crab`.**"
   ]
  },
  {
   "cell_type": "code",
   "execution_count": 12,
   "metadata": {
    "id": "8KNwQ9giGvsW"
   },
   "outputs": [],
   "source": [
    "target_position = SkyCoord.from_name('Crab')"
   ]
  },
  {
   "cell_type": "code",
   "execution_count": 13,
   "metadata": {
    "id": "xV1tzgF_afjR"
   },
   "outputs": [],
   "source": [
    "on_region = CircleSkyRegion(center=target_position, radius=0.11*u.deg)"
   ]
  },
  {
   "cell_type": "markdown",
   "metadata": {
    "id": "opCIMeOtG9QI"
   },
   "source": [
    "## Exercise: create a geometry based on the target position, with a bin size of 0.05 and 150 pixel2."
   ]
  },
  {
   "cell_type": "code",
   "execution_count": null,
   "metadata": {
    "id": "6qu5-8MEHcD9"
   },
   "outputs": [],
   "source": [
    "geom = WcsGeom.create(\n",
    "    npix=(150, 150), \n",
    "    binsz=0.05, \n",
    "    skydir=skydir, \n",
    "    frame=\"icrs\"\n",
    ")"
   ]
  },
  {
   "cell_type": "markdown",
   "metadata": {
    "id": "5qD1vEbiQ6mc"
   },
   "source": [
    "We will use the reflected regions method to place off regions to estimate the background level in the on region. To make sure the off regions don’t contain gamma-ray emission, we create an exclusion mask.\n",
    "\n",
    "Using http://gamma-sky.net/ we find that there’s only one known gamma-ray source near the Crab nebula:"
   ]
  },
  {
   "cell_type": "code",
   "execution_count": null,
   "metadata": {
    "id": "oIGwK9v5ZXvq"
   },
   "outputs": [],
   "source": [
    "exclusion_region = CircleSkyRegion(\n",
    "    center=SkyCoord(183.604, -8.708, unit=\"deg\", frame=\"galactic\"),\n",
    "    radius=0.5 * u.deg,\n",
    ")\n",
    "\n",
    "exclusion_mask = ~geom.region_mask([exclusion_region])\n",
    "exclusion_mask.plot()"
   ]
  },
  {
   "cell_type": "code",
   "execution_count": null,
   "metadata": {
    "id": "03P4J1MiQ4vE"
   },
   "outputs": [],
   "source": [
    "energy_axis = MapAxis.from_energy_bounds(\n",
    "    0.1, 40, nbin=10, per_decade=True, unit=\"TeV\", name=\"energy\"\n",
    ")\n",
    "energy_axis_true = MapAxis.from_energy_bounds(\n",
    "    0.05, 100, nbin=20, per_decade=True, unit=\"TeV\", name=\"energy_true\"\n",
    ")\n",
    "\n",
    "geom = RegionGeom.create(region=on_region, axes=[energy_axis])"
   ]
  },
  {
   "cell_type": "markdown",
   "metadata": {
    "id": "XHo2aymnHjgt"
   },
   "source": [
    "Exercise: set up a SpectrumDataset, SpectrumDatasetMaker, ReflectedRegionsBackgroundMaker and SafeMaskMaker"
   ]
  },
  {
   "cell_type": "code",
   "execution_count": null,
   "metadata": {
    "id": "CpK2X6R0Hf6H"
   },
   "outputs": [],
   "source": [
    "dataset_empty =\n",
    "dataset_maker =\n",
    "bkg_maker =\n",
    "safe_mask_masker ="
   ]
  },
  {
   "cell_type": "code",
   "execution_count": null,
   "metadata": {
    "id": "HpLMunTKRAlq"
   },
   "outputs": [],
   "source": [
    "datasets = Datasets()\n",
    "\n",
    "for obs_id, observation in zip(obs_ids, observations):\n",
    "    dataset = dataset_maker.run(dataset_empty.copy(name=str(obs_id)), observation)\n",
    "    dataset_on_off = bkg_maker.run(dataset, observation)\n",
    "    dataset_on_off = safe_mask_masker.run(dataset_on_off, observation)\n",
    "    datasets.append(dataset_on_off)\n",
    "\n",
    "print(datasets)"
   ]
  },
  {
   "cell_type": "code",
   "execution_count": null,
   "metadata": {
    "id": "WeKMQ17ARD0d"
   },
   "outputs": [],
   "source": [
    "ax = exclusion_mask.plot()\n",
    "on_region.to_pixel(ax.wcs).plot(ax=ax, edgecolor=\"k\")\n",
    "plot_spectrum_datasets_off_regions(ax=ax, datasets=datasets)"
   ]
  },
  {
   "cell_type": "markdown",
   "metadata": {
    "id": "BK1W0bc3ansA"
   },
   "source": [
    "## Data Fitting\n",
    "\n",
    "In this section we fit a spectral model to the data. In particular, we can use the [likelihood ratio test](https://docs.gammapy.org/1.2/user-guide/stats/index.html#estimating-ts) to compare two different hypotheses:\n",
    "- H0: Background only (no source)\n",
    "- H1: Background + source described by a power law model\n",
    "\n",
    "\n",
    "### **H0**\n",
    "\n",
    "The value of the quantity $-2\\ln\\mathcal(L)$ for the background-only model (null hypothesis) can be simply computed as"
   ]
  },
  {
   "cell_type": "code",
   "execution_count": null,
   "metadata": {
    "id": "rbTqMpwyatp2"
   },
   "outputs": [],
   "source": [
    "stacked_dataset = datasets.stack_reduce(name='stacked')\n",
    "print(stacked_dataset)"
   ]
  },
  {
   "cell_type": "code",
   "execution_count": null,
   "metadata": {
    "id": "0mUEHyAxaoBx"
   },
   "outputs": [],
   "source": [
    "Wstat_0 = stacked_dataset.stat_sum()\n",
    "print(Wstat_0)"
   ]
  },
  {
   "cell_type": "markdown",
   "metadata": {
    "id": "zVe1hgc4ayfo"
   },
   "source": [
    "Since the background has been estimated using the reflected regions method, here $-2\\ln\\mathcal(L)$ corresponds to the so-called [Wstat](https://docs.gammapy.org/1.2/user-guide/references.html#term-WStat) fit statistic.\n",
    "\n",
    "We can inspect the model residuals for the H0 hypothesis:"
   ]
  },
  {
   "cell_type": "code",
   "execution_count": null,
   "metadata": {
    "id": "f8WLsfKMavP0"
   },
   "outputs": [],
   "source": [
    "stacked_dataset.plot_residuals_spectral();"
   ]
  },
  {
   "cell_type": "markdown",
   "metadata": {
    "id": "a_U2wEBza11x"
   },
   "source": [
    "As expected, the residuals show a clear positive feature indicating that a source is missing in the model.\n",
    "\n",
    "## **H1**\n",
    "We now add a source defined by a power law spectrum to the model."
   ]
  },
  {
   "cell_type": "code",
   "execution_count": null,
   "metadata": {
    "id": "QHYXR_kBaz8q"
   },
   "outputs": [],
   "source": [
    "spectral_model = PowerLawSpectralModel(\n",
    "    index=2.2, amplitude=2e-11 * u.Unit(\"1 / (cm2 s TeV)\"), reference=1 * u.TeV\n",
    ")"
   ]
  },
  {
   "cell_type": "markdown",
   "metadata": {
    "id": "jRPL4aYfQNW5"
   },
   "source": [
    "Define your `SkyModel` and apply it to your `stacked_dataset`."
   ]
  },
  {
   "cell_type": "code",
   "execution_count": null,
   "metadata": {
    "id": "06-PF4O_QMEL"
   },
   "outputs": [],
   "source": [
    "model1 ="
   ]
  },
  {
   "cell_type": "code",
   "execution_count": null,
   "metadata": {
    "id": "7csU7iJFbYu8"
   },
   "outputs": [],
   "source": []
  },
  {
   "cell_type": "markdown",
   "metadata": {
    "id": "yYfiM5AbQRKR"
   },
   "source": [
    "Create the `Fit` object, and run the fit."
   ]
  },
  {
   "cell_type": "code",
   "execution_count": null,
   "metadata": {
    "id": "4ROkfA-ZbcR4"
   },
   "outputs": [],
   "source": [
    "fit =\n",
    "result ="
   ]
  },
  {
   "cell_type": "code",
   "execution_count": null,
   "metadata": {
    "id": "3zms2xjEbdal"
   },
   "outputs": [],
   "source": [
    "Wstat_1 = result1.total_stat\n",
    "print(f\"delta TS of H1 vs H0: {Wstat_0-Wstat_1}\")"
   ]
  },
  {
   "cell_type": "code",
   "execution_count": null,
   "metadata": {
    "id": "9gfK4YaTbfSL"
   },
   "outputs": [],
   "source": [
    "ax_spectrum, ax_residuals = stacked_dataset.plot_fit()"
   ]
  },
  {
   "cell_type": "code",
   "execution_count": null,
   "metadata": {
    "id": "maQHFsxtbhHD"
   },
   "outputs": [],
   "source": []
  }
 ],
 "metadata": {
  "colab": {
   "provenance": []
  },
  "kernelspec": {
   "display_name": "Python 3 (ipykernel)",
   "language": "python",
   "name": "python3"
  },
  "language_info": {
   "codemirror_mode": {
    "name": "ipython",
    "version": 3
   },
   "file_extension": ".py",
   "mimetype": "text/x-python",
   "name": "python",
   "nbconvert_exporter": "python",
   "pygments_lexer": "ipython3",
   "version": "3.10.13"
  }
 },
 "nbformat": 4,
 "nbformat_minor": 1
}
